{
  "nbformat": 4,
  "nbformat_minor": 0,
  "metadata": {
    "colab": {
      "provenance": []
    },
    "kernelspec": {
      "name": "python3",
      "display_name": "Python 3"
    },
    "language_info": {
      "name": "python"
    }
  },
  "cells": [
    {
      "cell_type": "markdown",
      "source": [
        "# Theory Questions:"
      ],
      "metadata": {
        "id": "l8RKD1DhzoK8"
      }
    },
    {
      "cell_type": "markdown",
      "source": [
        "1. What are data structures, and why are they important?\n",
        "-   Data structures are ways to organize and store data efficiently. They are important because they enable efficient access, manipulation, and management of data, which is crucial for building effective algorithms and software.\n",
        "\n",
        "2. Explain the difference between mutable and immutable data types with examples.\n",
        "-  Mutable data types can be changed after they are created (e.g., lists, dictionaries, sets). Immutable data types cannot be changed after creation; any operation that seems to modify them actually creates a new object (e.g., strings, tuples, numbers).\n",
        "\n",
        "3. What are the main differences between lists and tuples in Python?\n",
        "- Lists are mutable and are typically used for collections of items that might need to be modified. Tuples are immutable and are often used for fixed collections of related items. Lists use square brackets [], while tuples use parentheses ().\n",
        "\n",
        "4. Describe how dictionaries store data.\n",
        "-  Dictionaries store data as key-value pairs. Each key is unique and is used to access its corresponding value. This allows for efficient data retrieval based on the key.\n",
        "\n",
        "5. Why might you use a set instead of a list in Python?\n",
        "- You might use a set when you need to store a collection of unique elements and when the order of elements does not matter. Sets provide efficient membership testing and allow for set operations like union, intersection, and difference.\n",
        "\n",
        "6.  What is a string in Python, and how is it different from a list?\n",
        "-  A string is a sequence of characters used to represent text. It is immutable. A list is an ordered, mutable sequence of items that can be of any data type.\n",
        "\n",
        "7. How do tuples ensure data integrity in Python?\n",
        "- Tuples ensure data integrity because they are immutable. Once a tuple is created, its elements cannot be changed, added, or removed, ensuring that the data remains constant throughout the program.\n",
        "\n",
        "8.  What is a hash table, and how does it relate to dictionaries in Python?\n",
        "- A hash table is a data structure that uses a hash function to map keys to indices in an array, allowing for efficient average-case time complexity for operations like insertion, deletion, and retrieval. Python dictionaries are implemented using hash tables.\n",
        "\n",
        "9. Can lists contain different data types in Python?\n",
        "- Yes, Python lists are heterogeneous and can contain elements of different data types (e.g., integers, strings, booleans) within the same list.\n",
        "\n",
        "10. Explain why strings are immutable in Python.\n",
        "- Strings are immutable for several reasons, including efficiency (allowing for memory optimizations) and data integrity (ensuring that a string's value remains consistent). When you perform an operation that seems to modify a string, you are actually creating a new string object.\n",
        "\n",
        "11. What advantages do dictionaries offer over lists for certain tasks?\n",
        "- Dictionaries offer faster data retrieval (average O(1) time complexity) when you know the key, compared to lists where you might have to iterate to find an element (O(n) time complexity). Dictionaries are also more suitable for representing data with labeled fields.\n",
        "\n",
        "12.  Describe a scenario where using a tuple would be preferable over a list.\n",
        "- Using a tuple would be preferable when you have a collection of items that should not be modified, such as representing coordinates (x, y), RGB color values (r, g, b), or when using a sequence as a key in a dictionary (since list are not hashable).\n",
        "\n",
        "13. How do sets handle duplicate values in Python?\n",
        "- Sets in Python automatically handle duplicate values by only storing one instance of each unique element. If you try to add a duplicate value to a set, it will simply be ignored.\n",
        "\n",
        "14. How does the \"in\" keyword work differently for lists and dictionaries?\n",
        "-   For lists, the \"in\" keyword checks if a value exists within the list by potentially iterating through its elements (O(n) on average). For dictionaries, the \"in\" keyword checks if a key exists in the dictionary's keys (O(1) on average due to the hash table implementation).\n",
        "\n",
        "15. Can you modify the elements of a tuple? Explain why or why not.\n",
        "-  No, you cannot modify the elements of a tuple after it is created because tuples are immutable data types in Python. This immutability is a fundamental property of tuples.\n",
        "\n",
        "16. What is a nested dictionary, and give an example of its use case?\n",
        "- A nested dictionary is a dictionary where the values associated with keys are themselves dictionaries. An example use case is representing structured data like configuration settings where sections and subsections can be naturally represented.\n",
        "\n",
        "17. Describe the time complexity of accessing elements in a dictionary.\n",
        "-  The average-case time complexity of accessing elements (values) in a dictionary using their keys is O(1) (constant time) due to the underlying hash table implementation. In the worst case (e.g., hash collisions), it can degrade to O(n).\n",
        "\n",
        "18. In what situations are lists preferred over dictionaries?\n",
        "-   Lists are preferred when you need an ordered sequence of items, the order of elements is significant, you might have duplicate elements, and you primarily access elements by their index.\n",
        "\n",
        "19. Why are dictionaries considered unordered, and how does that affect data retrieval?\n",
        "- In Python versions before 3.7, dictionaries were generally considered unordered, meaning the order in which items were inserted was not guaranteed to be preserved. This affected retrieval if you relied on a specific insertion order. However, starting with Python 3.7, dictionaries remember the insertion order.\n",
        "\n",
        "20. Explain the difference between a list and a dictionary in terms of data retrieval.\n",
        "- In a list, you typically retrieve data by its numerical index (position). In a dictionary, you retrieve data by its unique key. Dictionaries offer faster average-case retrieval based on keys compared to the potentially linear search required in lists (if you don't know the index).\n",
        "\n"
      ],
      "metadata": {
        "id": "mevod9Vhsnyr"
      }
    },
    {
      "cell_type": "markdown",
      "source": [
        "# Practical Questions:"
      ],
      "metadata": {
        "id": "t5yj4Mi5FtXa"
      }
    },
    {
      "cell_type": "markdown",
      "source": [
        "1. Write a code to create a string with your name and print it.\n"
      ],
      "metadata": {
        "id": "fyBH0mMpF2D-"
      }
    },
    {
      "cell_type": "code",
      "execution_count": null,
      "metadata": {
        "id": "FRSlTdFqsZCS",
        "colab": {
          "base_uri": "https://localhost:8080/"
        },
        "outputId": "e598d0e8-6b4b-4d51-b93e-3115429a1dfc"
      },
      "outputs": [
        {
          "output_type": "stream",
          "name": "stdout",
          "text": [
            "Charu Sharma\n"
          ]
        }
      ],
      "source": [
        "  name = \"Charu Sharma\"\n",
        "print(name)\n"
      ]
    },
    {
      "cell_type": "markdown",
      "source": [
        "2. Write a code to find the length of the string \" Hello World \".\n"
      ],
      "metadata": {
        "id": "BTxS41N9HFeM"
      }
    },
    {
      "cell_type": "code",
      "source": [
        "string = \" Hello World \"\n",
        "length = len(string)\n",
        "print(length)\n"
      ],
      "metadata": {
        "colab": {
          "base_uri": "https://localhost:8080/"
        },
        "id": "r3TZiLX4HFD2",
        "outputId": "d0f6b9d5-2017-4d82-dd4a-b207b9d621f5"
      },
      "execution_count": null,
      "outputs": [
        {
          "output_type": "stream",
          "name": "stdout",
          "text": [
            "13\n"
          ]
        }
      ]
    },
    {
      "cell_type": "markdown",
      "source": [
        "3. Write a code to slice the first 3 characters from the string \" Python Programming \".\n"
      ],
      "metadata": {
        "id": "LuKkFqZ4HEul"
      }
    },
    {
      "cell_type": "code",
      "source": [
        " string = \" Python Programming \"\n",
        "sliced_string = string[:3]\n",
        "print(sliced_string)\n"
      ],
      "metadata": {
        "colab": {
          "base_uri": "https://localhost:8080/"
        },
        "id": "tHk7uNM9HEXe",
        "outputId": "5c6f1c9a-0906-4a3e-8a90-f3bacf637861"
      },
      "execution_count": null,
      "outputs": [
        {
          "output_type": "stream",
          "name": "stdout",
          "text": [
            " Py\n"
          ]
        }
      ]
    },
    {
      "cell_type": "markdown",
      "source": [
        "4. Write a code to convert the string ' hello ' to uppercase.\n"
      ],
      "metadata": {
        "id": "AG1pbY6QHEBf"
      }
    },
    {
      "cell_type": "code",
      "source": [
        "string = ' hello '\n",
        "uppercase_string = string.upper()\n",
        "print(uppercase_string)\n",
        "\n"
      ],
      "metadata": {
        "colab": {
          "base_uri": "https://localhost:8080/"
        },
        "id": "7QQHfffpHDo5",
        "outputId": "df3278a9-8709-4698-e20f-e7977edff766"
      },
      "execution_count": null,
      "outputs": [
        {
          "output_type": "stream",
          "name": "stdout",
          "text": [
            " HELLO \n"
          ]
        }
      ]
    },
    {
      "cell_type": "markdown",
      "source": [
        "5. Write a code to replace the word \" apple \" with \" orange \" in the string ' I like apple \" .\n"
      ],
      "metadata": {
        "id": "gDxO7GnjHDTA"
      }
    },
    {
      "cell_type": "code",
      "source": [
        "string = ' I like apple '\n",
        "new_string = string.replace(\"apple\", \"orange\")\n",
        "print(new_string)\n",
        "\n"
      ],
      "metadata": {
        "colab": {
          "base_uri": "https://localhost:8080/"
        },
        "id": "nG39dmHbHC4j",
        "outputId": "774ec5f9-d394-4989-8f64-cae9d299ce92"
      },
      "execution_count": null,
      "outputs": [
        {
          "output_type": "stream",
          "name": "stdout",
          "text": [
            " I like orange \n"
          ]
        }
      ]
    },
    {
      "cell_type": "markdown",
      "source": [
        "6. Write a code to create a list with numbers 1 to 5 and print it.\n"
      ],
      "metadata": {
        "id": "nJ7T_44VHCi3"
      }
    },
    {
      "cell_type": "code",
      "source": [
        "  numbers = [1, 2, 3, 4, 5]\n",
        "print(numbers)\n",
        "\n"
      ],
      "metadata": {
        "colab": {
          "base_uri": "https://localhost:8080/"
        },
        "id": "Uh0em2QSHCPC",
        "outputId": "96dab233-25a1-4d5f-b3e5-c346381b3b35"
      },
      "execution_count": null,
      "outputs": [
        {
          "output_type": "stream",
          "name": "stdout",
          "text": [
            "[1, 2, 3, 4, 5]\n"
          ]
        }
      ]
    },
    {
      "cell_type": "markdown",
      "source": [
        "7. Write a code to append the number 10 to the list [ 1 , 2 , 3 , 4 ].\n"
      ],
      "metadata": {
        "id": "gcmZiYuzHB7m"
      }
    },
    {
      "cell_type": "code",
      "source": [
        "  my_list = [1, 2, 3, 4]\n",
        "my_list.append(10)\n",
        "print(my_list)\n"
      ],
      "metadata": {
        "colab": {
          "base_uri": "https://localhost:8080/"
        },
        "id": "o0WDHjO7HBnH",
        "outputId": "05ede570-579c-497a-9be0-7dda65ae112a"
      },
      "execution_count": 24,
      "outputs": [
        {
          "output_type": "stream",
          "name": "stdout",
          "text": [
            "[1, 2, 3, 4, 10]\n"
          ]
        }
      ]
    },
    {
      "cell_type": "markdown",
      "source": [
        "8. Write a code to remove the number 3 from the list [ 1 , 2 , 3 , 4 , 5 ].\n"
      ],
      "metadata": {
        "id": "IVZb5UX3HBGj"
      }
    },
    {
      "cell_type": "code",
      "source": [
        "  my_list = [1, 2, 3, 4, 5]\n",
        "my_list.remove(3)\n",
        "print(my_list)\n"
      ],
      "metadata": {
        "colab": {
          "base_uri": "https://localhost:8080/"
        },
        "id": "-FkRBylzHA0T",
        "outputId": "c337bfb3-11fa-43e3-953d-8b47f5c60ac6"
      },
      "execution_count": 23,
      "outputs": [
        {
          "output_type": "stream",
          "name": "stdout",
          "text": [
            "[1, 2, 4, 5]\n"
          ]
        }
      ]
    },
    {
      "cell_type": "markdown",
      "source": [
        "9.  Write a code to access the second element in the list [ ' a ' , ' b ' , ' c ' , ' d ' ].\n"
      ],
      "metadata": {
        "id": "wQHbrLh5HAgx"
      }
    },
    {
      "cell_type": "code",
      "source": [
        "my_list = ['a', 'b', 'c', 'd']\n",
        "second_element = my_list[1]\n",
        "print(second_element)\n",
        "\n"
      ],
      "metadata": {
        "colab": {
          "base_uri": "https://localhost:8080/"
        },
        "id": "AZ5crEFWHANH",
        "outputId": "674b7041-cc78-4d6d-9d7b-8ae5193beffb"
      },
      "execution_count": 22,
      "outputs": [
        {
          "output_type": "stream",
          "name": "stdout",
          "text": [
            "b\n"
          ]
        }
      ]
    },
    {
      "cell_type": "markdown",
      "source": [
        "10. Write a code to reverse the list [ 10 , 20 , 30 , 40 , 50 ].\n"
      ],
      "metadata": {
        "id": "ZUZ6qJ5qG79I"
      }
    },
    {
      "cell_type": "code",
      "source": [
        "  my_list = [10, 20, 30, 40, 50]\n",
        "my_list.reverse()\n",
        "print(my_list)\n"
      ],
      "metadata": {
        "colab": {
          "base_uri": "https://localhost:8080/"
        },
        "id": "_eDjP8eAG7rM",
        "outputId": "fd128d89-7987-4dca-8ea6-3f5996f6726a"
      },
      "execution_count": 21,
      "outputs": [
        {
          "output_type": "stream",
          "name": "stdout",
          "text": [
            "[50, 40, 30, 20, 10]\n"
          ]
        }
      ]
    },
    {
      "cell_type": "markdown",
      "source": [
        "11. Write a code to create a tuple with the elements 100, 200, 300 and print it.\n"
      ],
      "metadata": {
        "id": "yUltmcBBG7Yw"
      }
    },
    {
      "cell_type": "code",
      "source": [
        "  my_tuple = (100, 200, 300)\n",
        "print(my_tuple)\n"
      ],
      "metadata": {
        "id": "8XP3AguiG7Cs",
        "colab": {
          "base_uri": "https://localhost:8080/"
        },
        "outputId": "cff93c56-f699-4cb0-91bd-92b0f9a25556"
      },
      "execution_count": 20,
      "outputs": [
        {
          "output_type": "stream",
          "name": "stdout",
          "text": [
            "(100, 200, 300)\n"
          ]
        }
      ]
    },
    {
      "cell_type": "markdown",
      "source": [
        "12. Write a code to access the second-to-last element of the tuple ('red', 'green', 'blue', 'yellow').\n"
      ],
      "metadata": {
        "id": "YMT5qtjWG6uh"
      }
    },
    {
      "cell_type": "code",
      "source": [
        "   my_tuple = ('red', 'green', 'blue', 'yellow')\n",
        "second_to_last = my_tuple[-2]\n",
        "print(second_to_last)\n",
        "\n"
      ],
      "metadata": {
        "colab": {
          "base_uri": "https://localhost:8080/"
        },
        "id": "NetHJV7kG6aH",
        "outputId": "8274d567-eabd-4ad5-da41-24382ab3c841"
      },
      "execution_count": 19,
      "outputs": [
        {
          "output_type": "stream",
          "name": "stdout",
          "text": [
            "blue\n"
          ]
        }
      ]
    },
    {
      "cell_type": "markdown",
      "source": [
        "13. Write a code to find the minimum number in the tuple (10, 20, 5, 15).\n"
      ],
      "metadata": {
        "id": "TiFWV2D0G6F4"
      }
    },
    {
      "cell_type": "code",
      "source": [
        "  my_tuple = (10, 20, 5, 15)\n",
        "minimum = min(my_tuple)\n",
        "print(minimum)\n",
        "\n"
      ],
      "metadata": {
        "colab": {
          "base_uri": "https://localhost:8080/"
        },
        "id": "hLKeWcKuG5xS",
        "outputId": "274dd3be-a7a7-4cc2-a2f4-f637d6695656"
      },
      "execution_count": 18,
      "outputs": [
        {
          "output_type": "stream",
          "name": "stdout",
          "text": [
            "5\n"
          ]
        }
      ]
    },
    {
      "cell_type": "markdown",
      "source": [
        "14. Write a code to find the index of the element 'cat' in the tuple ('dog', 'cat', 'rabbit').\n"
      ],
      "metadata": {
        "id": "P3OU4vp3G5cG"
      }
    },
    {
      "cell_type": "code",
      "source": [
        "my_tuple = ('dog', 'cat', 'rabbit')\n",
        "index_of_cat = my_tuple.index('cat')\n",
        "print(index_of_cat)"
      ],
      "metadata": {
        "colab": {
          "base_uri": "https://localhost:8080/"
        },
        "id": "O2eBPMYyG5KR",
        "outputId": "b127c1d8-686b-44bd-d448-0b1edefc41b1"
      },
      "execution_count": 17,
      "outputs": [
        {
          "output_type": "stream",
          "name": "stdout",
          "text": [
            "1\n"
          ]
        }
      ]
    },
    {
      "cell_type": "markdown",
      "source": [
        "15. Write a code to create a tuple containing three different fruits and check if 'kiwi' is in it.\n"
      ],
      "metadata": {
        "id": "dSzAr71oG4fa"
      }
    },
    {
      "cell_type": "code",
      "source": [
        "   fruits = ('apple', 'banana', 'orange')\n",
        "is_kiwi_present = 'kiwi' in fruits\n",
        "print(is_kiwi_present)\n",
        "\n",
        "\n"
      ],
      "metadata": {
        "colab": {
          "base_uri": "https://localhost:8080/"
        },
        "id": "Cf_rRdYgG4MK",
        "outputId": "5c0b09cc-1ae2-4950-bcc7-97b4ab4f7f47"
      },
      "execution_count": 16,
      "outputs": [
        {
          "output_type": "stream",
          "name": "stdout",
          "text": [
            "False\n"
          ]
        }
      ]
    },
    {
      "cell_type": "markdown",
      "source": [
        "16. Write a code to create a set with the elements 'a', 'b', 'c' and print it.\n"
      ],
      "metadata": {
        "id": "tMEZW0jXG34x"
      }
    },
    {
      "cell_type": "code",
      "source": [
        " my_set = {'a', 'b', 'c'}\n",
        "print(my_set)\n",
        "\n"
      ],
      "metadata": {
        "colab": {
          "base_uri": "https://localhost:8080/"
        },
        "id": "dZo3gprbG3it",
        "outputId": "531d5ab4-8e6f-4e7e-ee85-8142d867e1a3"
      },
      "execution_count": 15,
      "outputs": [
        {
          "output_type": "stream",
          "name": "stdout",
          "text": [
            "{'b', 'c', 'a'}\n"
          ]
        }
      ]
    },
    {
      "cell_type": "markdown",
      "source": [
        "17. Write a code to clear all elements from the set {1, 2, 3, 4, 5}.\n"
      ],
      "metadata": {
        "id": "--qQyiodRdI8"
      }
    },
    {
      "cell_type": "code",
      "source": [
        " my_set = {1, 2, 3, 4, 5}\n",
        "my_set.clear()\n",
        "print(my_set)\n",
        "\n"
      ],
      "metadata": {
        "id": "-3QpPy_pRc1C",
        "colab": {
          "base_uri": "https://localhost:8080/"
        },
        "outputId": "5192b8ae-d80c-4be9-c76c-d9e941d6bde2"
      },
      "execution_count": 14,
      "outputs": [
        {
          "output_type": "stream",
          "name": "stdout",
          "text": [
            "set()\n"
          ]
        }
      ]
    },
    {
      "cell_type": "markdown",
      "source": [
        "18. Write a code to remove the element 4 from the set {1, 2, 3, 4}.\n"
      ],
      "metadata": {
        "id": "6PlYHYOYRcii"
      }
    },
    {
      "cell_type": "code",
      "source": [
        "  my_set = {1, 2, 3, 4}\n",
        "my_set.remove(4)\n",
        "print(my_set)\n",
        "\n"
      ],
      "metadata": {
        "id": "AKnpxcliRcQm",
        "colab": {
          "base_uri": "https://localhost:8080/"
        },
        "outputId": "c70d4393-9b61-4d1e-d2e9-718d620b8617"
      },
      "execution_count": 13,
      "outputs": [
        {
          "output_type": "stream",
          "name": "stdout",
          "text": [
            "{1, 2, 3}\n"
          ]
        }
      ]
    },
    {
      "cell_type": "markdown",
      "source": [
        "19. Write a code to find the union of two sets {1, 2, 3} and {3, 4, 5}.\n"
      ],
      "metadata": {
        "id": "mJumOaZiRb-g"
      }
    },
    {
      "cell_type": "code",
      "source": [
        "set1 = {1, 2, 3}\n",
        "set2 = {3, 4, 5}\n",
        "union_set = set1.union(set2)\n",
        "print(union_set)\n",
        "\n"
      ],
      "metadata": {
        "id": "BFpTCY6QRbtc",
        "colab": {
          "base_uri": "https://localhost:8080/"
        },
        "outputId": "9818041d-234c-4710-9469-81f14fc4dce3"
      },
      "execution_count": 12,
      "outputs": [
        {
          "output_type": "stream",
          "name": "stdout",
          "text": [
            "{1, 2, 3, 4, 5}\n"
          ]
        }
      ]
    },
    {
      "cell_type": "markdown",
      "source": [
        "20. Write a code to find the intersection of two sets {1, 2, 3} and {2, 3, 4}.\n"
      ],
      "metadata": {
        "id": "VwBJXYYsRbcA"
      }
    },
    {
      "cell_type": "code",
      "source": [
        "set1 = {1, 2, 3}\n",
        "set2 = {2, 3, 4}\n",
        "intersection_set = set1.intersection(set2)\n",
        "print(intersection_set)\n",
        "\n"
      ],
      "metadata": {
        "id": "BXKRYgsKRbGI",
        "colab": {
          "base_uri": "https://localhost:8080/"
        },
        "outputId": "77ca22b6-28c4-4bea-f64a-7a029d0cd2a9"
      },
      "execution_count": 11,
      "outputs": [
        {
          "output_type": "stream",
          "name": "stdout",
          "text": [
            "{2, 3}\n"
          ]
        }
      ]
    },
    {
      "cell_type": "markdown",
      "source": [
        "21. Write a code to create a dictionary with the keys \"name\", \"age\", and \"city\", and print it.\n"
      ],
      "metadata": {
        "id": "dicAhTjPRati"
      }
    },
    {
      "cell_type": "code",
      "source": [
        "my_dict = {\"name\": \"John\", \"age\": 30, \"city\": \"New York\"}\n",
        "print(my_dict)\n"
      ],
      "metadata": {
        "id": "8iQIawtYRZzX",
        "colab": {
          "base_uri": "https://localhost:8080/"
        },
        "outputId": "c6a1c782-0a74-4a68-f365-0507e9d36143"
      },
      "execution_count": 10,
      "outputs": [
        {
          "output_type": "stream",
          "name": "stdout",
          "text": [
            "{'name': 'John', 'age': 30, 'city': 'New York'}\n"
          ]
        }
      ]
    },
    {
      "cell_type": "markdown",
      "source": [
        "22. Write a code to add a new key-value pair \"country\": \"USA\" to the dictionary {'name': 'John', 'age': 25}.\n"
      ],
      "metadata": {
        "id": "9ba1vDhOSJ4B"
      }
    },
    {
      "cell_type": "code",
      "source": [
        " my_dict = {'name': 'John', 'age': 25}\n",
        "my_dict[\"country\"] = \"USA\"\n",
        "print(my_dict)\n",
        "\n"
      ],
      "metadata": {
        "id": "McB1v047SJh3",
        "colab": {
          "base_uri": "https://localhost:8080/"
        },
        "outputId": "3aa5f682-1274-4b5a-f771-14afeb0382fd"
      },
      "execution_count": 9,
      "outputs": [
        {
          "output_type": "stream",
          "name": "stdout",
          "text": [
            "{'name': 'John', 'age': 25, 'country': 'USA'}\n"
          ]
        }
      ]
    },
    {
      "cell_type": "markdown",
      "source": [
        "23. Write a code to access the value associated with the key \"name\" in the dictionary {'name': 'Alice', 'age': 30}.\n"
      ],
      "metadata": {
        "id": "z1FLSZwZSJNa"
      }
    },
    {
      "cell_type": "code",
      "source": [
        " my_dict = {'name': 'Alice', 'age': 30}\n",
        "name = my_dict[\"name\"]\n",
        "print(name)\n"
      ],
      "metadata": {
        "id": "Zkx3YiuXSI5W",
        "colab": {
          "base_uri": "https://localhost:8080/"
        },
        "outputId": "80f325d1-11e3-4727-a538-866a58ca634f"
      },
      "execution_count": 8,
      "outputs": [
        {
          "output_type": "stream",
          "name": "stdout",
          "text": [
            "Alice\n"
          ]
        }
      ]
    },
    {
      "cell_type": "markdown",
      "source": [
        "24. Write a code to remove the key \"age\" from the dictionary {'name': 'Bob', 'age': 22, 'city': 'New York'}.\n"
      ],
      "metadata": {
        "id": "wINqnlDOSIki"
      }
    },
    {
      "cell_type": "code",
      "source": [
        " my_dict = {'name': 'Bob', 'age': 22, 'city': 'New York'}\n",
        "del my_dict[\"age\"]\n",
        "print(my_dict)\n"
      ],
      "metadata": {
        "id": "bT5C-6JlSILW",
        "colab": {
          "base_uri": "https://localhost:8080/"
        },
        "outputId": "441e113a-f117-4d6a-a996-2973fd3d1470"
      },
      "execution_count": 7,
      "outputs": [
        {
          "output_type": "stream",
          "name": "stdout",
          "text": [
            "{'name': 'Bob', 'city': 'New York'}\n"
          ]
        }
      ]
    },
    {
      "cell_type": "markdown",
      "source": [
        "25. Write a code to check if the key \"city\" exists in the dictionary {'name': 'Alice', 'city': 'Paris'}.\n"
      ],
      "metadata": {
        "id": "JCGIxDfgSkjY"
      }
    },
    {
      "cell_type": "code",
      "source": [
        " my_dict = {'name': 'Alice', 'city': 'Paris'}\n",
        "is_city_present = \"city\" in my_dict\n",
        "print(is_city_present)\n"
      ],
      "metadata": {
        "id": "MTIFXxM7SkNg",
        "colab": {
          "base_uri": "https://localhost:8080/"
        },
        "outputId": "e155e7bb-9f9a-40a3-83de-de9cbd82b601"
      },
      "execution_count": 6,
      "outputs": [
        {
          "output_type": "stream",
          "name": "stdout",
          "text": [
            "True\n"
          ]
        }
      ]
    },
    {
      "cell_type": "markdown",
      "source": [
        "26. Write a code to create a list, a tuple, and a dictionary, and print them all.\n"
      ],
      "metadata": {
        "id": "-oJCST8zSj4G"
      }
    },
    {
      "cell_type": "code",
      "source": [
        " my_list = [1, \"hello\", True]\n",
        "my_tuple = (3.14, False)\n",
        "my_dict = {\"key\": \"value\", 1: 10}\n",
        "print(\"List:\", my_list)\n",
        "print(\"Tuple:\", my_tuple)\n",
        "print(\"Dictionary:\", my_dict)\n",
        "\n"
      ],
      "metadata": {
        "id": "ygOd-pbMSipq",
        "colab": {
          "base_uri": "https://localhost:8080/"
        },
        "outputId": "abdc4ab7-e867-4c51-9625-90a30ee0ff2f"
      },
      "execution_count": 5,
      "outputs": [
        {
          "output_type": "stream",
          "name": "stdout",
          "text": [
            "List: [1, 'hello', True]\n",
            "Tuple: (3.14, False)\n",
            "Dictionary: {'key': 'value', 1: 10}\n"
          ]
        }
      ]
    },
    {
      "cell_type": "markdown",
      "source": [
        "27. Write a code to create a list of 5 random numbers between 1 and 100, sort it in ascending order, and print the result.\n",
        "   \n"
      ],
      "metadata": {
        "id": "pwsA75seSjVb"
      }
    },
    {
      "cell_type": "code",
      "source": [
        "import random\n",
        "random_numbers = [random.randint(1, 100) for _ in range(5)]\n",
        "random_numbers.sort()\n",
        "print(random_numbers)\n"
      ],
      "metadata": {
        "id": "uuI4AiYySihW",
        "colab": {
          "base_uri": "https://localhost:8080/"
        },
        "outputId": "11309088-5f91-4207-a98a-8b3abdae291e"
      },
      "execution_count": 26,
      "outputs": [
        {
          "output_type": "stream",
          "name": "stdout",
          "text": [
            "[1, 31, 39, 40, 58]\n"
          ]
        }
      ]
    },
    {
      "cell_type": "markdown",
      "source": [
        "28. Write a code to create a list with strings and print the element at the third index.\n"
      ],
      "metadata": {
        "id": "jEKfBqXfSh76"
      }
    },
    {
      "cell_type": "code",
      "source": [
        "  string_list = [\"apple\", \"banana\", \"cherry\", \"date\", \"elderberry\"]\n",
        "third_element = string_list[2]\n",
        "print(third_element)\n"
      ],
      "metadata": {
        "id": "LCuaHA8VShbz",
        "colab": {
          "base_uri": "https://localhost:8080/"
        },
        "outputId": "2deeb778-24a6-46aa-dad5-ad0708ca27eb"
      },
      "execution_count": 3,
      "outputs": [
        {
          "output_type": "stream",
          "name": "stdout",
          "text": [
            "cherry\n"
          ]
        }
      ]
    },
    {
      "cell_type": "markdown",
      "source": [
        "29. Write a code to combine two dictionaries into one and print the result.\n"
      ],
      "metadata": {
        "id": "sndVziMUUg2T"
      }
    },
    {
      "cell_type": "code",
      "source": [
        "  dict1 = {\"a\": 1, \"b\": 2}\n",
        "dict2 = {\"c\": 3, \"d\": 4}\n",
        "combined_dict = dict1.copy()  # Start with a copy of the first dictionary\n",
        "combined_dict.update(dict2)   # Update it with the key-value pairs from the second\n",
        "print(combined_dict)\n",
        "\n"
      ],
      "metadata": {
        "colab": {
          "base_uri": "https://localhost:8080/"
        },
        "id": "Z7AMlLLlUgeW",
        "outputId": "18251d4b-9d36-4b94-b738-308a015eb15c"
      },
      "execution_count": 2,
      "outputs": [
        {
          "output_type": "stream",
          "name": "stdout",
          "text": [
            "{'a': 1, 'b': 2, 'c': 3, 'd': 4}\n"
          ]
        }
      ]
    },
    {
      "cell_type": "markdown",
      "source": [
        "30. Write a code to convert a list of strings into a set.\n"
      ],
      "metadata": {
        "id": "nhkGcQHpUgDf"
      }
    },
    {
      "cell_type": "code",
      "source": [
        " string_list = [\"apple\", \"banana\", \"apple\", \"cherry\"]\n",
        "my_set = set(string_list)\n",
        "print(my_set)\n"
      ],
      "metadata": {
        "colab": {
          "base_uri": "https://localhost:8080/"
        },
        "id": "J9BF26o5UfmO",
        "outputId": "3c6b250a-6f61-4ffb-d250-f84e6d2591e8"
      },
      "execution_count": 1,
      "outputs": [
        {
          "output_type": "stream",
          "name": "stdout",
          "text": [
            "{'apple', 'banana', 'cherry'}\n"
          ]
        }
      ]
    }
  ]
}